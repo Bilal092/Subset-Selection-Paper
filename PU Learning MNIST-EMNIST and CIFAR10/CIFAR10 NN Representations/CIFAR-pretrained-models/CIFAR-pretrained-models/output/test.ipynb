{
 "cells": [
  {
   "cell_type": "code",
   "execution_count": 2,
   "metadata": {},
   "outputs": [
    {
     "ename": "ModuleNotFoundError",
     "evalue": "No module named 'cifar_pretrainedmodels'",
     "output_type": "error",
     "traceback": [
      "\u001b[1;31m---------------------------------------------------------------------------\u001b[0m",
      "\u001b[1;31mModuleNotFoundError\u001b[0m                       Traceback (most recent call last)",
      "\u001b[1;32mg:\\My Drive\\Research Codes\\Subset Selection\\CIFAR-pretrained-models\\CIFAR-pretrained-models\\output\\test.ipynb Cell 1\u001b[0m in \u001b[0;36m<cell line: 1>\u001b[1;34m()\u001b[0m\n\u001b[1;32m----> <a href='vscode-notebook-cell:/g%3A/My%20Drive/Research%20Codes/Subset%20Selection/CIFAR-pretrained-models/CIFAR-pretrained-models/output/test.ipynb#W0sZmlsZQ%3D%3D?line=0'>1</a>\u001b[0m \u001b[39mfrom\u001b[39;00m \u001b[39mcifar_pretrainedmodels\u001b[39;00m\u001b[39m.\u001b[39;00m\u001b[39mresnet\u001b[39;00m \u001b[39mimport\u001b[39;00m \u001b[39m*\u001b[39m\n\u001b[0;32m      <a href='vscode-notebook-cell:/g%3A/My%20Drive/Research%20Codes/Subset%20Selection/CIFAR-pretrained-models/CIFAR-pretrained-models/output/test.ipynb#W0sZmlsZQ%3D%3D?line=1'>2</a>\u001b[0m \u001b[39mimport\u001b[39;00m \u001b[39mtorch\u001b[39;00m\n\u001b[0;32m      <a href='vscode-notebook-cell:/g%3A/My%20Drive/Research%20Codes/Subset%20Selection/CIFAR-pretrained-models/CIFAR-pretrained-models/output/test.ipynb#W0sZmlsZQ%3D%3D?line=2'>3</a>\u001b[0m \u001b[39mimport\u001b[39;00m \u001b[39mtensorflow\u001b[39;00m \u001b[39mas\u001b[39;00m \u001b[39mtf\u001b[39;00m\n",
      "\u001b[1;31mModuleNotFoundError\u001b[0m: No module named 'cifar_pretrainedmodels'"
     ]
    }
   ],
   "source": [
    "from cifar_pretrainedmodels.resnet import *\n",
    "import torch\n",
    "import tensorflow as tf\n",
    "import numpy as np\n",
    "import pickle"
   ]
  },
  {
   "cell_type": "code",
   "execution_count": 4,
   "metadata": {},
   "outputs": [],
   "source": [
    "model = cifar_resnet20()"
   ]
  },
  {
   "cell_type": "code",
   "execution_count": 5,
   "metadata": {},
   "outputs": [],
   "source": [
    "(x_train, y_train), (x_test, y_test) = tf.keras.datasets.cifar10.load_data()"
   ]
  },
  {
   "cell_type": "code",
   "execution_count": 6,
   "metadata": {},
   "outputs": [
    {
     "data": {
      "text/plain": [
       "<All keys matched successfully>"
      ]
     },
     "execution_count": 6,
     "metadata": {},
     "output_type": "execute_result"
    }
   ],
   "source": [
    "PATH = \"pretrained_weights/cifar10_resnet20-4118986f.pt\"\n",
    "model.load_state_dict(torch.load(PATH))"
   ]
  },
  {
   "cell_type": "code",
   "execution_count": 11,
   "metadata": {},
   "outputs": [],
   "source": [
    "def writeToFile(data, file_path):\n",
    "    with open(file_path, 'wb') as f:\n",
    "        x = pickle.dump(data, f)\n",
    "\n",
    "def featureExtracting(data, model):\n",
    "    \n",
    "    bsize = 5000\n",
    "    \n",
    "    print(data.shape[0]//bsize)\n",
    "    for i in range(data.shape[0]//bsize):\n",
    "\n",
    "        temp = torch.movedim(torch.tensor(data[bsize*i:bsize*(i+1)]), -1, 1).type(torch.float)\n",
    "        output = model.featureExtraction(temp).detach().numpy()\n",
    "        writeToFile(output, \"output/{}.pkl\".format(i))\n",
    "    \n"
   ]
  },
  {
   "cell_type": "code",
   "execution_count": 12,
   "metadata": {},
   "outputs": [
    {
     "name": "stdout",
     "output_type": "stream",
     "text": [
      "10\n"
     ]
    }
   ],
   "source": [
    "featureExtracting(x_train, model)"
   ]
  },
  {
   "cell_type": "code",
   "execution_count": 15,
   "metadata": {},
   "outputs": [],
   "source": [
    "def readFile(file_path):\n",
    "    with open(file_path, 'rb') as f:\n",
    "        data = pickle.load(f)\n",
    "    return data\n",
    "\n",
    "def getData(nfile = 10, path = \"output/{}.pkl\"):\n",
    "    data = []\n",
    "    for i in range(nfile):\n",
    "        variable_path = path.format(i)\n",
    "        data.append(readFile(variable_path))\n",
    "\n",
    "    return np.concatenate(data, axis = 0)"
   ]
  },
  {
   "cell_type": "code",
   "execution_count": 17,
   "metadata": {},
   "outputs": [
    {
     "data": {
      "text/plain": [
       "(50000, 64)"
      ]
     },
     "execution_count": 17,
     "metadata": {},
     "output_type": "execute_result"
    }
   ],
   "source": [
    "output = getData()\n",
    "output.shape"
   ]
  },
  {
   "cell_type": "code",
   "execution_count": null,
   "metadata": {},
   "outputs": [],
   "source": []
  }
 ],
 "metadata": {
  "kernelspec": {
   "display_name": "Python 3.10.4 ('pytorch')",
   "language": "python",
   "name": "python3"
  },
  "language_info": {
   "codemirror_mode": {
    "name": "ipython",
    "version": 3
   },
   "file_extension": ".py",
   "mimetype": "text/x-python",
   "name": "python",
   "nbconvert_exporter": "python",
   "pygments_lexer": "ipython3",
   "version": "3.10.4"
  },
  "orig_nbformat": 4,
  "vscode": {
   "interpreter": {
    "hash": "94a50e03b059fb6038791710436d907f8274645c3a91865674da183d5c69a6a3"
   }
  }
 },
 "nbformat": 4,
 "nbformat_minor": 2
}
